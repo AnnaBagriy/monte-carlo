{
 "cells": [
  {
   "cell_type": "markdown",
   "metadata": {},
   "source": [
    "### MAP556, Ecole Polytechnique, 2022-23"
   ]
  },
  {
   "cell_type": "markdown",
   "metadata": {},
   "source": [
    "# PC7 - Construction and training of feed-forward Neural Networks"
   ]
  },
  {
   "cell_type": "markdown",
   "metadata": {},
   "source": [
    "This notebook illustrates the construction of a multi-layer neural network in Python, using only basic libraries such as numpy.\n",
    "\n",
    "We will construct a NN $T_\\theta(x)$ and then, given some synthetic data $(x_i, y_i)_{i = 1, \\dots, N}$, solve the fitting (or training) problem\n",
    "\n",
    "$$\n",
    "\\min_\\theta R_N(\\theta) \\quad \\mbox{where} \\quad R_N(\\theta) = \\frac 1 N \\sum_{i=1}^N (y_i -  T_\\theta(x_i))^2\n",
    "$$\n",
    "\n",
    "applying a gradient descent algorithm\n",
    "\n",
    "\n",
    "$$\n",
    "\\theta_{n+1} = \\theta_n - \\eta \\, \\frac 1{\\left|B_{n+1} \\right|} \\sum_{i \\in B_{n+1}}^N \\nabla_\\theta \\, (y_i -  T_{\\theta_n}(x_i))^2 \n",
    "$$\n",
    "\n",
    "with step (or \"learning rate\") $\\eta$, where $(B_{n})_n$ is a sequence of batches.\n",
    "\n",
    "This procedure will require to implement the computation of the gradient $\\nabla_\\theta T(x_i)$, which can be done by backpropagation through the network."
   ]
  },
  {
   "cell_type": "code",
   "execution_count": 1,
   "metadata": {},
   "outputs": [],
   "source": [
    "import numpy as np\n",
    "import matplotlib.pyplot as plt"
   ]
  },
  {
   "cell_type": "markdown",
   "metadata": {},
   "source": [
    "### Network construction"
   ]
  },
  {
   "cell_type": "markdown",
   "metadata": {},
   "source": [
    "We recall the notation from the lectures: a NN $T_\\theta$ is a composition of $L$ transformations $(T^l)_{l = 1, \\dots, L}$\n",
    "\n",
    "$$\n",
    "T_\\theta = T^L \\circ \\cdots \\circ T^1,\n",
    "$$\n",
    "\n",
    "where, for each $l$, $T^l : \\mathbb R^{d^l} \\to \\mathbb R^{d^{l+1}}$ is given by\n",
    "\n",
    "$$\n",
    "T^l(x) = \\sigma^l \\left(W^l x + b^l \\right).\n",
    "$$\n",
    "\n",
    "The matrices $W^l \\in \\mathbb R^{d^{l+1} \\times d^l}$ are called the network _weights_, the vectors $b^l \\in \\mathbb R^{d^{l+1}}$  the network _biases_.\n",
    "\n",
    "The activation function $\\sigma^l$ acts componentwise, $\\sigma^l(a) = (\\sigma^l(a_1), \\dots, \\sigma^l(a_{d^{l+1}}))$."
   ]
  },
  {
   "cell_type": "code",
   "execution_count": 2,
   "metadata": {},
   "outputs": [],
   "source": [
    "# Base class\n",
    "class Layer:\n",
    "    def __init__(self):\n",
    "        self.input = None\n",
    "        self.output = None\n",
    "\n",
    "    # computes the output Y of a layer for a given input X\n",
    "    def forward_propagation(self, input):\n",
    "        raise NotImplementedError\n",
    "\n",
    "    # computes dE/dX for a given dE/dY (and update parameters if any)\n",
    "    def backward_propagation(self, output_error, learning_rate):\n",
    "        raise NotImplementedError"
   ]
  },
  {
   "cell_type": "markdown",
   "metadata": {},
   "source": [
    "The following class implements the linear transformation part of a generic layer within the network (a separate class will be used to implement the activation function)."
   ]
  },
  {
   "cell_type": "code",
   "execution_count": 72,
   "metadata": {},
   "outputs": [],
   "source": [
    "# inherit from base class Layer\n",
    "class FCLayer(Layer):\n",
    "    # input_size = number of input neurons\n",
    "    # output_size = number of output neurons\n",
    "    def __init__(self, input_size, output_size):\n",
    "        # Random initialisation of the layer weight parameters\n",
    "        # (note that, using the notation of the lectures, self.weights corresponds to W.T).\n",
    "        self.weights = np.random.rand(input_size, output_size) - 0.5\n",
    "        \n",
    "        # Random initialisation of the layer bias parameters b\n",
    "        self.bias = np.random.rand(1, output_size) - 0.5\n",
    "\n",
    "    # returns output for a given input\n",
    "    def forward_propagation(self, input_data):        \n",
    "        # The input data is copied into the layer\n",
    "        self.input = input_data\n",
    "        \n",
    "        # Note that output is implemented as x * W instead of W * x\n",
    "        self.output = np.dot(self.input, self.weights) + self.bias\n",
    "        return self.output\n",
    "\n",
    "    # Recall the notation from the lectures :\n",
    "    # - the transformation from layer input x to layer output y is denoted T.\n",
    "    # The fct below computes dT/dW, dT/dB for a given output_error dT/dy. Returns input_error=dT/dX.\n",
    "    def backward_propagation(self, output_error):\n",
    "        self.bias_error = output_error\n",
    "        self.weights_error = np.dot(self.input.T, output_error) # shape = input_size * output_size\n",
    "        \n",
    "        self.input_error = np.dot(output_error, self.weights.T) # shape = 1 * input_size\n",
    "        \n",
    "        # We need to output the value of dT/dX so that it can be used by the following layer\n",
    "        # within the backpropagation algorithm\n",
    "        return self.input_error\n",
    "        \n",
    "    # perform one gradient step and update parameters\n",
    "    def gradient_step(self, learning_rate):\n",
    "        #print(self.weights,self.output)\n",
    "        #T = np.dot(self.weights,self.output) + self.bias\n",
    "        #print(T)\n",
    "        self.weights -= 2*learning_rate*np.dot(self.input[0]-self.output[0,:-1],self.input[0])\n",
    "        self.bias -= 2*learning_rate*sum(self.input[0]-self.output[0,:-1])\n",
    "        \n",
    "        print(self.weights,self.bias)"
   ]
  },
  {
   "cell_type": "markdown",
   "metadata": {},
   "source": [
    "Let us test our FCLayer class"
   ]
  },
  {
   "cell_type": "code",
   "execution_count": 73,
   "metadata": {},
   "outputs": [
    {
     "name": "stdout",
     "output_type": "stream",
     "text": [
      "FClayer1.weights.shape :  (2, 3)\n",
      "FClayer1.weights : \n",
      " [[ 0.0947949   0.10842584  0.23225595]\n",
      " [ 0.19000863 -0.26796241  0.48755032]] \n",
      "\n",
      "FClayer1.bias.shape :  (1, 3)\n",
      "FClayer1.bias: \n",
      " [[0.47823077 0.27476162 0.3675975 ]] \n",
      "\n",
      "layer_output :  [[ 0.95304292 -0.15273737  1.57495409]] \n",
      "\n",
      "\n",
      "Input [[1 2]]\n",
      "Output [[ 0.95304292 -0.15273737  1.57495409]]\n",
      "\n",
      "derivative w.r.t. input :  [[1.00841443 1.11673477]] \n",
      "\n",
      "[[ 0.0947949   0.10842584  0.23225595]\n",
      " [ 0.19000863 -0.26796241  0.48755032]] [[ 0.95304292 -0.15273737  1.57495409]]\n"
     ]
    },
    {
     "ename": "ValueError",
     "evalue": "shapes (2,3) and (1,3) not aligned: 3 (dim 1) != 1 (dim 0)",
     "output_type": "error",
     "traceback": [
      "\u001b[0;31m---------------------------------------------------------------------------\u001b[0m",
      "\u001b[0;31mValueError\u001b[0m                                Traceback (most recent call last)",
      "\u001b[0;32m/var/folders/vt/sdb7skj50blfnp70pjvzn9fw0000gn/T/ipykernel_9259/4243102231.py\u001b[0m in \u001b[0;36m<module>\u001b[0;34m\u001b[0m\n\u001b[1;32m     22\u001b[0m \u001b[0;34m\u001b[0m\u001b[0m\n\u001b[1;32m     23\u001b[0m \u001b[0;31m# test parameters update\u001b[0m\u001b[0;34m\u001b[0m\u001b[0;34m\u001b[0m\u001b[0m\n\u001b[0;32m---> 24\u001b[0;31m \u001b[0mFClayer1\u001b[0m\u001b[0;34m.\u001b[0m\u001b[0mgradient_step\u001b[0m\u001b[0;34m(\u001b[0m\u001b[0;36m0.1\u001b[0m\u001b[0;34m)\u001b[0m\u001b[0;34m\u001b[0m\u001b[0;34m\u001b[0m\u001b[0m\n\u001b[0m\u001b[1;32m     25\u001b[0m \u001b[0mprint\u001b[0m\u001b[0;34m(\u001b[0m\u001b[0;34m\"Updated FClayer1.weights : \\n\"\u001b[0m\u001b[0;34m,\u001b[0m \u001b[0mFClayer1\u001b[0m\u001b[0;34m.\u001b[0m\u001b[0mweights\u001b[0m\u001b[0;34m)\u001b[0m\u001b[0;34m\u001b[0m\u001b[0;34m\u001b[0m\u001b[0m\n",
      "\u001b[0;32m/var/folders/vt/sdb7skj50blfnp70pjvzn9fw0000gn/T/ipykernel_9259/3853205616.py\u001b[0m in \u001b[0;36mgradient_step\u001b[0;34m(self, learning_rate)\u001b[0m\n\u001b[1;32m     36\u001b[0m     \u001b[0;32mdef\u001b[0m \u001b[0mgradient_step\u001b[0m\u001b[0;34m(\u001b[0m\u001b[0mself\u001b[0m\u001b[0;34m,\u001b[0m \u001b[0mlearning_rate\u001b[0m\u001b[0;34m)\u001b[0m\u001b[0;34m:\u001b[0m\u001b[0;34m\u001b[0m\u001b[0;34m\u001b[0m\u001b[0m\n\u001b[1;32m     37\u001b[0m         \u001b[0mprint\u001b[0m\u001b[0;34m(\u001b[0m\u001b[0mself\u001b[0m\u001b[0;34m.\u001b[0m\u001b[0mweights\u001b[0m\u001b[0;34m,\u001b[0m\u001b[0mself\u001b[0m\u001b[0;34m.\u001b[0m\u001b[0moutput\u001b[0m\u001b[0;34m)\u001b[0m\u001b[0;34m\u001b[0m\u001b[0;34m\u001b[0m\u001b[0m\n\u001b[0;32m---> 38\u001b[0;31m         \u001b[0mT\u001b[0m \u001b[0;34m=\u001b[0m \u001b[0mnp\u001b[0m\u001b[0;34m.\u001b[0m\u001b[0mdot\u001b[0m\u001b[0;34m(\u001b[0m\u001b[0mself\u001b[0m\u001b[0;34m.\u001b[0m\u001b[0mweights\u001b[0m\u001b[0;34m,\u001b[0m\u001b[0mself\u001b[0m\u001b[0;34m.\u001b[0m\u001b[0moutput\u001b[0m\u001b[0;34m)\u001b[0m \u001b[0;34m+\u001b[0m \u001b[0mself\u001b[0m\u001b[0;34m.\u001b[0m\u001b[0mbias\u001b[0m\u001b[0;34m\u001b[0m\u001b[0;34m\u001b[0m\u001b[0m\n\u001b[0m\u001b[1;32m     39\u001b[0m         \u001b[0mprint\u001b[0m\u001b[0;34m(\u001b[0m\u001b[0mT\u001b[0m\u001b[0;34m)\u001b[0m\u001b[0;34m\u001b[0m\u001b[0;34m\u001b[0m\u001b[0m\n\u001b[1;32m     40\u001b[0m         \u001b[0mself\u001b[0m\u001b[0;34m.\u001b[0m\u001b[0mweights\u001b[0m \u001b[0;34m-=\u001b[0m \u001b[0;36m2\u001b[0m\u001b[0;34m*\u001b[0m\u001b[0mlearning_rate\u001b[0m\u001b[0;34m*\u001b[0m\u001b[0mnp\u001b[0m\u001b[0;34m.\u001b[0m\u001b[0mdot\u001b[0m\u001b[0;34m(\u001b[0m\u001b[0mself\u001b[0m\u001b[0;34m.\u001b[0m\u001b[0minput\u001b[0m\u001b[0;34m[\u001b[0m\u001b[0;36m0\u001b[0m\u001b[0;34m]\u001b[0m\u001b[0;34m-\u001b[0m\u001b[0mself\u001b[0m\u001b[0;34m.\u001b[0m\u001b[0moutput\u001b[0m\u001b[0;34m[\u001b[0m\u001b[0;36m0\u001b[0m\u001b[0;34m,\u001b[0m\u001b[0;34m:\u001b[0m\u001b[0;34m-\u001b[0m\u001b[0;36m1\u001b[0m\u001b[0;34m]\u001b[0m\u001b[0;34m,\u001b[0m\u001b[0mself\u001b[0m\u001b[0;34m.\u001b[0m\u001b[0minput\u001b[0m\u001b[0;34m[\u001b[0m\u001b[0;36m0\u001b[0m\u001b[0;34m]\u001b[0m\u001b[0;34m)\u001b[0m\u001b[0;34m\u001b[0m\u001b[0;34m\u001b[0m\u001b[0m\n",
      "\u001b[0;32m<__array_function__ internals>\u001b[0m in \u001b[0;36mdot\u001b[0;34m(*args, **kwargs)\u001b[0m\n",
      "\u001b[0;31mValueError\u001b[0m: shapes (2,3) and (1,3) not aligned: 3 (dim 1) != 1 (dim 0)"
     ]
    }
   ],
   "source": [
    "FClayer1 = FCLayer(2, 3)\n",
    "\n",
    "print(\"FClayer1.weights.shape : \", FClayer1.weights.shape)\n",
    "print(\"FClayer1.weights : \\n\", FClayer1.weights, \"\\n\")\n",
    "\n",
    "print(\"FClayer1.bias.shape : \", FClayer1.bias.shape)\n",
    "print(\"FClayer1.bias: \\n\", FClayer1.bias, \"\\n\")\n",
    "\n",
    "# test forward computation\n",
    "input_data = np.array([[1, 2]])\n",
    "layer_output = FClayer1.forward_propagation(input_data)\n",
    "print(\"layer_output : \", layer_output, \"\\n\")\n",
    "\n",
    "print()\n",
    "print('Input',FClayer1.input)\n",
    "print('Output',FClayer1.output)\n",
    "print()\n",
    "\n",
    "# test backward computation\n",
    "input_derivative = FClayer1.backward_propagation(np.array([[1, 2, 3]]))\n",
    "print(\"derivative w.r.t. input : \", input_derivative, \"\\n\")\n",
    "\n",
    "# test parameters update\n",
    "FClayer1.gradient_step(0.1)\n",
    "print(\"Updated FClayer1.weights : \\n\", FClayer1.weights)\n"
   ]
  },
  {
   "cell_type": "markdown",
   "metadata": {},
   "source": [
    "__Activation function__. The following class implements the activation function as an additional layer inside the NN (with input size = output size)."
   ]
  },
  {
   "cell_type": "code",
   "execution_count": 22,
   "metadata": {},
   "outputs": [],
   "source": [
    "# inherit from base class Layer\n",
    "class ActivationLayer(Layer):\n",
    "    def __init__(self, activation, activation_prime):\n",
    "        self.activation = activation\n",
    "        self.activation_prime = activation_prime\n",
    "\n",
    "    # returns the activated input\n",
    "    def forward_propagation(self, input_data):\n",
    "        # The input data is copied into the layer\n",
    "        self.input = input_data\n",
    "        \n",
    "        self.output = self.activation(self.input)\n",
    "        return self.output\n",
    "\n",
    "    # Returns input_error=dE/dX for a given output_error=dE/dY.\n",
    "    # The learning_rate is not used because there is no \"learnable\" parameter within the activation function.\n",
    "    def backward_propagation(self, output_error):\n",
    "        return self.activation_prime(self.input) * output_error"
   ]
  },
  {
   "cell_type": "markdown",
   "metadata": {},
   "source": [
    "Let us test the ActivationLayer class"
   ]
  },
  {
   "cell_type": "code",
   "execution_count": 33,
   "metadata": {},
   "outputs": [
    {
     "name": "stdout",
     "output_type": "stream",
     "text": [
      "output :  [[0.76159416 0.96402758]]\n",
      "derivative w.r.t. input :  [[0.41997434 0.14130165]]\n"
     ]
    }
   ],
   "source": [
    "# activation function and its derivative\n",
    "def tanh(x):\n",
    "    return np.tanh(x);\n",
    "\n",
    "def tanh_prime(x):\n",
    "    return 1-np.tanh(x)**2;\n",
    "\n",
    "ActivationLayer1 = ActivationLayer(tanh, tanh_prime)\n",
    "\n",
    "print(\"output : \", ActivationLayer1.forward_propagation( np.array([[1, 2]]) ) )\n",
    "\n",
    "print(\"derivative w.r.t. input : \" , ActivationLayer1.backward_propagation( np.array([[1, 2]]) ) )"
   ]
  },
  {
   "cell_type": "code",
   "execution_count": 57,
   "metadata": {},
   "outputs": [],
   "source": [
    "# Loss function and its derivative\n",
    "def mse(y_true, y_pred):\n",
    "    return np.mean(np.power(y_true - y_pred, 2))\n",
    "\n",
    "def mse_prime(y_true, y_pred):\n",
    "    return 2*(y_true-y_pred)"
   ]
  },
  {
   "cell_type": "markdown",
   "metadata": {},
   "source": [
    "__Full network and training functions__. Finally, we implement the full network, allowing for the possibility to pile up layers made by linear transformations and activation functions."
   ]
  },
  {
   "cell_type": "code",
   "execution_count": 58,
   "metadata": {},
   "outputs": [],
   "source": [
    "class Network:\n",
    "    def __init__(self):\n",
    "        self.layers = []\n",
    "        self.loss = None\n",
    "        self.loss_prime = None\n",
    "\n",
    "    # add layer to network\n",
    "    def add(self, layer):\n",
    "        self.layers.append(layer)\n",
    "\n",
    "    # set loss to use\n",
    "    def use(self, loss, loss_prime):\n",
    "        self.loss = loss\n",
    "        self.loss_prime = loss_prime\n",
    "\n",
    "    # compute output for given input\n",
    "    def predict(self, input_data):\n",
    "        # detect the sample dimension first\n",
    "        sample_lenght = len(input_data)\n",
    "        result = []\n",
    "\n",
    "        # run network over all samples\n",
    "        for i in range(sample_lenght):\n",
    "            # forward propagation\n",
    "            output = input_data[i]\n",
    "            for layer in self.layers:\n",
    "                output = layer.forward_propagation(output)\n",
    "            result.append(output)\n",
    "\n",
    "        return result\n",
    "\n",
    "    # train the network\n",
    "    def fit(self, x_train, y_train, epochs, learning_rate):\n",
    "        # sample dimension first\n",
    "        sample_lenght = len(x_train)\n",
    "\n",
    "        # training loop\n",
    "        for i in range(epochs):\n",
    "            err = 0\n",
    "            for j in range(sample_lenght):\n",
    "                # forward propagation\n",
    "                output = x_train[j]\n",
    "                for layer in self.layers:\n",
    "                    output = 0. ### TO DO: UPDATE HERE  ### \n",
    "\n",
    "                # compute loss (for display purpose only)\n",
    "                err += self.loss(y_train[j], output)\n",
    "\n",
    "                # backward propagation\n",
    "                error = self.loss_prime(y_train[j], output)                \n",
    "                for layer in reversed(self.layers):\n",
    "                    error = 0. ### TO DO: UPDATE HERE  ###\n",
    "                    \n",
    "                    if hasattr(layer, 'gradient_step') and callable(getattr(layer, 'gradient_step')):\n",
    "                        pass ### TO DO: COMPLETE HERE WITH THE REQUIRED OPERATION ### \n",
    "\n",
    "            # calculate average error on all samples (for display purpose only)\n",
    "            err /= sample_lenght\n",
    "            if i % 100 == 0:\n",
    "                print('epoch %d/%d  error=%f' % (i+1, epochs, err))"
   ]
  },
  {
   "cell_type": "markdown",
   "metadata": {},
   "source": [
    "### Test on synthetic data"
   ]
  },
  {
   "cell_type": "markdown",
   "metadata": {},
   "source": [
    "We test the network training on some toy examples.\n",
    "\n",
    "__First example__. As a start, we fit a small NN with one hidden layer to a function $y(x)$ defined on the vertices of the square $[0,1]^2$\n",
    "\n",
    "(Of course this is a very simple example, and the NN will be able to perform well - but already in this basic situation, we will see the importance of hyperparameters such as the random initialisation of the network and the learning rate.)"
   ]
  },
  {
   "cell_type": "code",
   "execution_count": 59,
   "metadata": {},
   "outputs": [
    {
     "name": "stdout",
     "output_type": "stream",
     "text": [
      "x_train.shape :  (4, 1, 2)\n",
      "len(x_train) :  4\n",
      "y_train.shape : (4, 1, 1)\n"
     ]
    }
   ],
   "source": [
    "# training data\n",
    "x_train = np.array([[[0,0]], [[0,1]], [[1,0]], [[1,1]]])\n",
    "y_train = np.array([[[0]], [[1]], [[1]], [[0]]])\n",
    "\n",
    "print(\"x_train.shape : \", x_train.shape)\n",
    "print(\"len(x_train) : \", len(x_train))\n",
    "\n",
    "print(\"y_train.shape :\", y_train.shape)"
   ]
  },
  {
   "cell_type": "code",
   "execution_count": 37,
   "metadata": {},
   "outputs": [
    {
     "name": "stdout",
     "output_type": "stream",
     "text": [
      "Initial network output y : [array([[0.23594761]]), array([[0.37076857]]), array([[0.1332286]]), array([[0.27580133]])] \n",
      "\n",
      "epoch 1/1000  error=0.500000\n",
      "epoch 101/1000  error=0.500000\n",
      "epoch 201/1000  error=0.500000\n",
      "epoch 301/1000  error=0.500000\n",
      "epoch 401/1000  error=0.500000\n",
      "epoch 501/1000  error=0.500000\n",
      "epoch 601/1000  error=0.500000\n",
      "epoch 701/1000  error=0.500000\n",
      "epoch 801/1000  error=0.500000\n",
      "epoch 901/1000  error=0.500000\n",
      "\n",
      " Trained network output y : [array([[0.23594761]]), array([[0.37076857]]), array([[0.1332286]]), array([[0.27580133]])]\n"
     ]
    }
   ],
   "source": [
    "# network\n",
    "input_size = x_train.shape[-1]\n",
    "output_size = y_train.shape[-1]\n",
    "\n",
    "net = Network()\n",
    "\n",
    "net.add(FCLayer(input_size, 3))\n",
    "net.add(ActivationLayer(tanh, tanh_prime))\n",
    "net.add(FCLayer(3, output_size))\n",
    "net.add(ActivationLayer(tanh, tanh_prime))\n",
    "\n",
    "# starting point \n",
    "print(\"Initial network output y :\", net.predict(x_train), \"\\n\")\n",
    "\n",
    "# train\n",
    "net.use(mse, mse_prime)\n",
    "net.fit(x_train, y_train, epochs=1000, learning_rate=0.1)\n",
    "\n",
    "# the resulting output\n",
    "result = net.predict(x_train)\n",
    "print(\"\\n Trained network output y :\", result)"
   ]
  },
  {
   "cell_type": "markdown",
   "metadata": {},
   "source": [
    "__Another example__.  Here we ask a NN to fit some noisy observations of the function $y(x) = \\sin(4 \\, x)$."
   ]
  },
  {
   "cell_type": "code",
   "execution_count": 38,
   "metadata": {},
   "outputs": [
    {
     "data": {
      "image/png": "[encoded data removed]",
      "text/plain": [
       "<Figure size 432x288 with 1 Axes>"
      ]
     },
     "metadata": {
      "needs_background": "light"
     },
     "output_type": "display_data"
    }
   ],
   "source": [
    "# training data\n",
    "n_sample = 200\n",
    "x_train = np.linspace(-1, 1, n_sample)\n",
    "y_train = np.sin(x_train*4) + np.random.uniform(-0.1, 0.1, n_sample)\n",
    "\n",
    "# plot the training data\n",
    "plt.scatter(x_train, y_train)\n",
    "plt.title(\"Training data\")\n",
    "plt.show()"
   ]
  },
  {
   "cell_type": "code",
   "execution_count": 61,
   "metadata": {},
   "outputs": [
    {
     "ename": "ValueError",
     "evalue": "shapes (1,2) and (1,10) not aligned: 2 (dim 1) != 1 (dim 0)",
     "output_type": "error",
     "traceback": [
      "\u001b[0;31m---------------------------------------------------------------------------\u001b[0m",
      "\u001b[0;31mValueError\u001b[0m                                Traceback (most recent call last)",
      "\u001b[0;32m/var/folders/vt/sdb7skj50blfnp70pjvzn9fw0000gn/T/ipykernel_9259/2431812637.py\u001b[0m in \u001b[0;36m<module>\u001b[0;34m\u001b[0m\n\u001b[1;32m     10\u001b[0m \u001b[0;34m\u001b[0m\u001b[0m\n\u001b[1;32m     11\u001b[0m \u001b[0;31m# starting point\u001b[0m\u001b[0;34m\u001b[0m\u001b[0;34m\u001b[0m\u001b[0m\n\u001b[0;32m---> 12\u001b[0;31m \u001b[0minitial_output\u001b[0m \u001b[0;34m=\u001b[0m \u001b[0mnet\u001b[0m\u001b[0;34m.\u001b[0m\u001b[0mpredict\u001b[0m\u001b[0;34m(\u001b[0m\u001b[0mx_train\u001b[0m\u001b[0;34m)\u001b[0m\u001b[0;34m\u001b[0m\u001b[0;34m\u001b[0m\u001b[0m\n\u001b[0m\u001b[1;32m     13\u001b[0m \u001b[0mprint\u001b[0m\u001b[0;34m(\u001b[0m\u001b[0;34m\"initial_output.shape : \"\u001b[0m\u001b[0;34m,\u001b[0m \u001b[0mnp\u001b[0m\u001b[0;34m.\u001b[0m\u001b[0marray\u001b[0m\u001b[0;34m(\u001b[0m\u001b[0minitial_output\u001b[0m\u001b[0;34m)\u001b[0m\u001b[0;34m.\u001b[0m\u001b[0mshape\u001b[0m \u001b[0;34m)\u001b[0m\u001b[0;34m\u001b[0m\u001b[0;34m\u001b[0m\u001b[0m\n\u001b[1;32m     14\u001b[0m \u001b[0;34m\u001b[0m\u001b[0m\n",
      "\u001b[0;32m/var/folders/vt/sdb7skj50blfnp70pjvzn9fw0000gn/T/ipykernel_9259/1042917658.py\u001b[0m in \u001b[0;36mpredict\u001b[0;34m(self, input_data)\u001b[0m\n\u001b[1;32m     25\u001b[0m             \u001b[0moutput\u001b[0m \u001b[0;34m=\u001b[0m \u001b[0minput_data\u001b[0m\u001b[0;34m[\u001b[0m\u001b[0mi\u001b[0m\u001b[0;34m]\u001b[0m\u001b[0;34m\u001b[0m\u001b[0;34m\u001b[0m\u001b[0m\n\u001b[1;32m     26\u001b[0m             \u001b[0;32mfor\u001b[0m \u001b[0mlayer\u001b[0m \u001b[0;32min\u001b[0m \u001b[0mself\u001b[0m\u001b[0;34m.\u001b[0m\u001b[0mlayers\u001b[0m\u001b[0;34m:\u001b[0m\u001b[0;34m\u001b[0m\u001b[0;34m\u001b[0m\u001b[0m\n\u001b[0;32m---> 27\u001b[0;31m                 \u001b[0moutput\u001b[0m \u001b[0;34m=\u001b[0m \u001b[0mlayer\u001b[0m\u001b[0;34m.\u001b[0m\u001b[0mforward_propagation\u001b[0m\u001b[0;34m(\u001b[0m\u001b[0moutput\u001b[0m\u001b[0;34m)\u001b[0m\u001b[0;34m\u001b[0m\u001b[0;34m\u001b[0m\u001b[0m\n\u001b[0m\u001b[1;32m     28\u001b[0m             \u001b[0mresult\u001b[0m\u001b[0;34m.\u001b[0m\u001b[0mappend\u001b[0m\u001b[0;34m(\u001b[0m\u001b[0moutput\u001b[0m\u001b[0;34m)\u001b[0m\u001b[0;34m\u001b[0m\u001b[0;34m\u001b[0m\u001b[0m\n\u001b[1;32m     29\u001b[0m \u001b[0;34m\u001b[0m\u001b[0m\n",
      "\u001b[0;32m/var/folders/vt/sdb7skj50blfnp70pjvzn9fw0000gn/T/ipykernel_9259/3574591657.py\u001b[0m in \u001b[0;36mforward_propagation\u001b[0;34m(self, input_data)\u001b[0m\n\u001b[1;32m     17\u001b[0m \u001b[0;34m\u001b[0m\u001b[0m\n\u001b[1;32m     18\u001b[0m         \u001b[0;31m# Note that output is implemented as x * W instead of W * x\u001b[0m\u001b[0;34m\u001b[0m\u001b[0;34m\u001b[0m\u001b[0m\n\u001b[0;32m---> 19\u001b[0;31m         \u001b[0mself\u001b[0m\u001b[0;34m.\u001b[0m\u001b[0moutput\u001b[0m \u001b[0;34m=\u001b[0m \u001b[0mnp\u001b[0m\u001b[0;34m.\u001b[0m\u001b[0mdot\u001b[0m\u001b[0;34m(\u001b[0m\u001b[0mself\u001b[0m\u001b[0;34m.\u001b[0m\u001b[0minput\u001b[0m\u001b[0;34m,\u001b[0m \u001b[0mself\u001b[0m\u001b[0;34m.\u001b[0m\u001b[0mweights\u001b[0m\u001b[0;34m)\u001b[0m \u001b[0;34m+\u001b[0m \u001b[0mself\u001b[0m\u001b[0;34m.\u001b[0m\u001b[0mbias\u001b[0m\u001b[0;34m\u001b[0m\u001b[0;34m\u001b[0m\u001b[0m\n\u001b[0m\u001b[1;32m     20\u001b[0m         \u001b[0;32mreturn\u001b[0m \u001b[0mself\u001b[0m\u001b[0;34m.\u001b[0m\u001b[0moutput\u001b[0m\u001b[0;34m\u001b[0m\u001b[0;34m\u001b[0m\u001b[0m\n\u001b[1;32m     21\u001b[0m \u001b[0;34m\u001b[0m\u001b[0m\n",
      "\u001b[0;32m<__array_function__ internals>\u001b[0m in \u001b[0;36mdot\u001b[0;34m(*args, **kwargs)\u001b[0m\n",
      "\u001b[0;31mValueError\u001b[0m: shapes (1,2) and (1,10) not aligned: 2 (dim 1) != 1 (dim 0)"
     ]
    }
   ],
   "source": [
    "# network\n",
    "nb_neurons = 10\n",
    "\n",
    "net = Network()\n",
    "\n",
    "net.add(FCLayer(1, nb_neurons))\n",
    "net.add(ActivationLayer(tanh, tanh_prime))\n",
    "net.add(FCLayer(nb_neurons, 1))\n",
    "#net.add(ActivationLayer(tanh, tanh_prime))\n",
    "\n",
    "# starting point \n",
    "initial_output = net.predict(x_train)\n",
    "print(\"initial_output.shape : \", np.array(initial_output).shape )\n",
    "\n",
    "plt.scatter(x_train, y_train)\n",
    "plt.plot(x_train, np.squeeze(initial_output), 'r')\n",
    "plt.title(\"Initial network output\")\n",
    "plt.show()\n",
    "\n",
    "# train\n",
    "net.use(mse, mse_prime)\n",
    "net.fit(x_train, y_train, epochs=1000, learning_rate=0.1)\n",
    "\n",
    "# plot the resulting output\n",
    "result = net.predict(x_train)\n",
    "\n",
    "plt.scatter(x_train, y_train)\n",
    "plt.plot(x_train, np.squeeze(result), 'r')\n",
    "plt.title(\"Trained network output\")\n",
    "plt.show()"
   ]
  },
  {
   "cell_type": "code",
   "execution_count": null,
   "metadata": {},
   "outputs": [],
   "source": []
  }
 ],
 "metadata": {
  "kernelspec": {
   "display_name": "Python 3 (ipykernel)",
   "language": "python",
   "name": "python3"
  },
  "language_info": {
   "codemirror_mode": {
    "name": "ipython",
    "version": 3
   },
   "file_extension": ".py",
   "mimetype": "text/x-python",
   "name": "python",
   "nbconvert_exporter": "python",
   "pygments_lexer": "ipython3",
   "version": "3.9.7"
  },
  "vscode": {
   "interpreter": {
    "hash": "916dbcbb3f70747c44a77c7bcd40155683ae19c65e1c03b4aa3499c5328201f1"
   }
  }
 },
 "nbformat": 4,
 "nbformat_minor": 2
}
