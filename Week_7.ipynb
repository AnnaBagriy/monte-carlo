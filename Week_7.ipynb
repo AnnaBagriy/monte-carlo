{
 "cells": [
  {
   "cell_type": "markdown",
   "metadata": {},
   "source": [
    "### MAP556, Ecole Polytechnique, 2022-23"
   ]
  },
  {
   "cell_type": "markdown",
   "metadata": {},
   "source": [
    "# TP 9 - Simulation de processus en temps continu et leur schéma d'Euler"
   ]
  },
  {
   "cell_type": "markdown",
   "metadata": {},
   "source": [
    "L'objectif de cette séance est d'illustrer numériquement la simulation exacte de certain processus en temps continu (construits explicitement à partir du mouvement Brownien) ainsi que les résultats concernant la convergence du schéma d'Euler."
   ]
  },
  {
   "cell_type": "markdown",
   "metadata": {},
   "source": [
    "### Exercice 1. Simulation conjointe de processus de Ornstein-Uhlenbeck et de son schéma d'Euler"
   ]
  },
  {
   "cell_type": "markdown",
   "metadata": {},
   "source": [
    "On considère dans cet exercise le processus $(X_t)_{t \\ge 0}$ solution de l'équation différentielle stochastique\n",
    "\n",
    "$$ dX_t = a(m - X_t) dt + \\sigma \\, dW_t, \n",
    "\\qquad X_0 = x_0 \\in \\mathbb{R},\n",
    "$$\n",
    "\n",
    "où $a,m \\in \\mathbb{R}$, $\\sigma > 0$, et $(W_t)_{t \\ge 0}$ est un mouvement Brownien dans $\\mathbb R$.\n",
    "\n",
    "On considère un horizon de temps $T>0$ et un nombre $N\\in{\\mathbb N}^*$ de pas de discrétisation. \n",
    "\n",
    "On notera $t_k = T \\frac k N$, $k \\in \\{0, \\dots, N\\}$.\n",
    "\n",
    "1. Montrer que, pour tout $t \\ge s$, le processus $X$ satisfait\n",
    "$$\n",
    "X_t = e^{-a(t-s)} X_s + m(1 - e^{-a(t-s)})\n",
    "+ \\sigma e^{-a t} \\int_s^t e^{a u} dW_u.\n",
    "$$\n",
    "Quelle est la loi de la famille de variables aléatoires $\\bigl(e^{-a t_{k+1}} \\int_{t_k}^{t_{k+1}} e^{a u} dW_u \\bigr)_{k = 0, \\dots, N-1}$?"
   ]
  },
  {
   "cell_type": "markdown",
   "metadata": {},
   "source": [
    "2. Ecrire le schéma d'Euler $(X^{(N)}_{t_k})_{k = 0, \\dots, N-1}$ pour le processus $X$.\n",
    "\n",
    "\n",
    "3. On souhaite simuler conjointement le processus $X$ et son schéma d'Euler $X^{(N)}$. Montrer que, pour tout $k$,\n",
    "$$\n",
    "\\mathrm{Cov}\n",
    "\\Bigl(\n",
    "e^{-a t_{k+1}} \\int_{t_k}^{t_{k+1}} e^{a u} dW_u, \\ \n",
    "W_{t_{k+1}} - W_{t_k}\n",
    "\\Bigr)\n",
    "= \n",
    "\\left(\n",
    "\\begin{array}{cc}\n",
    "\\frac 1{2a} (1 - e^{-2 a \\frac T N}) &\n",
    "\\frac 1{a} (1 - e^{-a \\frac T N})\n",
    "\\\\\n",
    "\\frac 1{a} (1 - e^{-a \\frac T N}) & \\frac T N\n",
    "\\end{array}\n",
    "\\right) =: C.\n",
    "$$\n",
    "Quelle est la loi de la famille de vecteurs aléatoires\n",
    "$\n",
    "\\biggl(\n",
    "\\begin{array}{c}\n",
    "e^{-a t_{k+1}} \\int_{t_k}^{t_{k+1}} e^{a u} dW_u\n",
    "\\\\\n",
    "W_{t_{k+1}} - W_{t_k}\n",
    "\\end{array}\n",
    "\\biggr)_{k = 0, \\dots, N-1}$?\n"
   ]
  },
  {
   "cell_type": "markdown",
   "metadata": {},
   "source": [
    "4. La fonction `numpy.linalg.cholesky(C)` renvoie une matrice triangulaire inférieure $L$ telle que $L \\, L^T = C$.\n",
    "Quelle est l'intérêt d'une telle fonction pour la simulation conjointe du processus $X$ et de son schéma d'Euler $X^{^{(N)}}$ sur la grille d'instants $(t_k)_{k=0,\\dots,N}$?"
   ]
  },
  {
   "cell_type": "markdown",
   "metadata": {},
   "source": [
    "5. En complétant le code ci-dessous, implémenter $M$ copies indépendantes de ces deux processus.\n",
    "Tracer en fonction du pas de temps $\\frac T N$ l'estimation empirique de l'erreur forte du schéma d'Euler\n",
    "$$\n",
    "\\mathbb{E} \\biggl[\\max_{0\\leq j \\leq N} \\bigl(X^{(N)}_{t_j} - X_{t_j}\\bigr)^2 \\biggr]^{1/2} \n",
    "$$\n",
    "\n",
    "obtenue à partir d'une moyenne empirique sur les $M$ simulations. On pourra mettre à jour les vecteurs *Xe* (pour le schéma d'Euler) et *X* (pour le vrai processus) ainsi que le vecteur *max\\_er* des $M$ copies de $\\max_{0\\leq j \\leq k} (X^{(N)}_{t_j} - X_{t_j})^2$.\n",
    "\n",
    "Que constatez-vous? Le résultat est-il conforme à la théorie? "
   ]
  },
  {
   "cell_type": "code",
   "execution_count": null,
   "metadata": {},
   "outputs": [],
   "source": [
    "import numpy as np\n",
    "import matplotlib.pyplot as plt\n",
    "from numpy import sqrt, log"
   ]
  },
  {
   "cell_type": "code",
   "execution_count": 1,
   "metadata": {},
   "outputs": [],
   "source": [
    "T = 1. \n",
    "sig = 0.8\n",
    "a = 0.5 \n",
    "m = 90.\n",
    "x0 = 100."
   ]
  },
  {
   "cell_type": "code",
   "execution_count": null,
   "metadata": {},
   "outputs": [],
   "source": [
    "def erreurForteEuler(T, sig, a, m, x0, N, M):\n",
    "    \"\"\"\n",
    "    Estimation de l'erreur forte du schema d'Euler de pas h=T/N\n",
    "    a partir d'un echantillon de M simulations.\n",
    "    \n",
    "    Output: le couple (erreur forte, demi-largeur de l'IC a 95%)\n",
    "    \"\"\"\n",
    "    X = x0 * np.ones(M)\n",
    "    Xe = x0 * np.ones(M)\n",
    "    max_er = np.zeros(M)\n",
    "    \n",
    "    ########################\n",
    "    # Parametres utiles pour\n",
    "    # la discretisation\n",
    "    ########################\n",
    "    a_m_delta_T = a * m * T/N\n",
    "    drift_X = m * (1 - np.exp(-a*T/N))\n",
    "\n",
    "    ##########################################\n",
    "    # Completer avec la matrice de covariance\n",
    "    # de l'integrale stochastique et de l'increment\n",
    "    # Brownien (voir Q3)\n",
    "    ##########################################    \n",
    "    C = np.identity(2) # modifier C\n",
    "    \n",
    "    L = np.linalg.cholesky(C)\n",
    "    \n",
    "    # Dans la boucle ci-dessus, on fait évoluer un vecteur de taille M\n",
    "    for k in range(N):\n",
    "        g = np.random.randn(2,M)\n",
    "        \n",
    "        # Array de taille 2 x M\n",
    "        increments_joints = np.dot(L,g)\n",
    "        \n",
    "        ##############################\n",
    "        # Completer avec l'evolution du \n",
    "        # processus X (on ecrase X_{t_{k-1}}\n",
    "        # avec X_{t_k})\n",
    "        ##############################\n",
    "        X = x0 * np.ones(M) #modifier X\n",
    "        \n",
    "        ##############################\n",
    "        # Completer avec l'evolution du \n",
    "        # processus Xe (schéma d'Euler)\n",
    "        ##############################\n",
    "        Xe = x0 * np.ones(M) #modifier Xe\n",
    "        \n",
    "        #############################################\n",
    "        # mettre à jour l'ecart maximum au carre max_er\n",
    "        #############################################\n",
    "        max_er = np.zeros(M)\n",
    "    \n",
    "    err_quadratique_eul = np.sum(max_er) / M\n",
    "    \n",
    "    err_eul = np.sqrt(err_quadratique_eul)\n",
    "    \n",
    "    ######################################\n",
    "    # Completer avec l'IC pour err_eul\n",
    "    # d'apres la methode delta\n",
    "    ######################################\n",
    "    variance_delta_methode = 0 # modifier la variance\n",
    "\n",
    "    largeur_IC_eul = 1.96 * np.sqrt(variance_delta_methode/M)\n",
    "    \n",
    "    return err_eul, largeur_IC_eul"
   ]
  },
  {
   "cell_type": "code",
   "execution_count": null,
   "metadata": {},
   "outputs": [],
   "source": [
    "##############################################################\n",
    "# Partie 'main' du code: on applique la fonction erreurForteEuler\n",
    "# pour différentes valeurs du pas de temps du schéma d'Euler\n",
    "##############################################################\n",
    "M = int(1.e2) # nombre de simulations independantes\n",
    "N = 1 # nombre initial de pas de discretisation\n",
    "\n",
    "P = 6 # le nombre de pas de temps est multiplié par 2 dans la boucle ci-dessous, P fois\n",
    "\n",
    "Npas = np.zeros(P) # on aura Npas = [1, 2, ... , 2^6]\n",
    "\n",
    "err_eul = np.zeros(P) #pour stocker les erreurs du schema d'Euler\n",
    "largeur_IC_eul = np.zeros(P) #pour stocker les largeurs des IC \n",
    "\n",
    "for i in range(P):\n",
    "    Npas[i] = N\n",
    "    \n",
    "    err_eul[i], largeur_IC_eul[i] = erreurForteEuler(T, sig, a, m, x0, N, M)\n",
    "\n",
    "    N = 2*N #multiplication du nombre N de pas par 2    \n",
    "\n",
    "#######################################\n",
    "# Representation graphique de l'erreur\n",
    "# forte en fonction du pas h=T/N\n",
    "#######################################\n",
    "plt.clf()\n",
    "\n",
    "plt.plot(?????,?????, color=\"r\", label=\"Erreur forte\")\n",
    "plt.plot(?????, ?????, color=\"b\", label=\"IC 95%\")\n",
    "plt.plot(?????, ?????, color=\"b\")\n",
    "\n",
    "plt.xlabel('Pas de discretisation')\n",
    "plt.legend(loc=\"best\")\n",
    "plt.show()\n",
    "\n",
    "#########################################\n",
    "# On affiche les valeurs de l'erreur et\n",
    "# de la largeur de l'IC\n",
    "#########################################\n",
    "print(\"N:\"); print(Npas)\n",
    "print(\"Erreurs du schema d'Euler de pas N:\"); print(err_eul)\n",
    "print(\"Largeur IC a 95%:\"); print (largeur_IC_eul)"
   ]
  },
  {
   "cell_type": "markdown",
   "metadata": {},
   "source": [
    "### Exercice 2.  Vitesse forte du schéma d'Euler pour une EDS linéaire\n",
    "\n",
    "On cherche un processus $(S_t)_{t \\ge 0}$ satisfaisant l'équation\n",
    "\n",
    "$$\n",
    "dS_t = r \\, S_tdt + \\sigma \\, S_t dW_t,\n",
    "\\qquad S_0=s_0>0,\n",
    "\\qquad r,\\sigma>0,\n",
    "$$\n",
    "\n",
    "où $(W_t)_{t \\ge 0}$ est un mouvement Brownien à valeurs réelles.\n",
    "\n",
    "1. Vérifier que le processus $S_t = s_0 e^{\\sigma \\, W_t + \\left(r-\\frac{\\sigma^2}{2} \\right)t}$, $t \\ge 0$, satisfait l'équation ci-dessus. On admettra par la suite que ce processus est bien l'unique solution de l'EDS; c'est ce que l'on appelle un mouvement Brownien géométrique (MBG). "
   ]
  },
  {
   "cell_type": "markdown",
   "metadata": {},
   "source": [
    "La connaissance de la solution explicite permet d'estimer l'erreur forte du schéma d'Euler $S^{(h)}$ pour ce nouveau processus :\n",
    "\n",
    "$$\n",
    "\\mathbb{E} \\biggl[\\max_{0\\leq j \\leq N}(S^{(h)}_{jh}-S_{jh})^2 \\biggr]^{1/2} \n",
    "$$\n",
    "\n",
    "\n",
    "On considère un horizon de temps $T>0$ et un nombre $N\\in{\\mathbb N}^*$ de pas de discrétisation.\n",
    "\n",
    "\n",
    "2. Écrire l'évolution du schéma d'Euler $(S^{(h)}_{kh})_{0\\leq k\\leq N}$ de pas $h=\\frac{T}{N}$.\n",
    "\n",
    "\n",
    "3. Écrire l'évolution du vrai processus $(S_{kh})_{0\\leq k\\leq N}$ sur la même grille d'instants de discrétisation $\\{k \\, h\\}_{0\\leq k\\leq N}$."
   ]
  },
  {
   "cell_type": "markdown",
   "metadata": {},
   "source": [
    "4. Dans le code ci-dessous, implémenter $M$ copies indépendantes de ces deux processus, en mettant à jour les vecteurs *Se* (pour le schéma d'Euler) et *S* (pour le vrai processus). Concrètement, il faudra mettre à jour le vecteur *max\\_er* des $M$ copies de $\\max_{0\\leq j \\leq k} (S^{(h)}_{jh} - S_{jh})^2$. On pourra calculer en dehors de la boucle sur l'indice temporel $k$ les paramètres utiles à la discrétisation, comme $\\bigl(r-\\frac{\\sigma^2}{2}\\bigr) \\frac{T}{N}$."
   ]
  },
  {
   "cell_type": "code",
   "execution_count": null,
   "metadata": {},
   "outputs": [],
   "source": [
    "T = 1. \n",
    "sig = 0.2\n",
    "r = 0.02\n",
    "S0 = 100"
   ]
  },
  {
   "cell_type": "code",
   "execution_count": null,
   "metadata": {},
   "outputs": [],
   "source": [
    "def erreurForteEuler(T, sig, r, S0, N, M):\n",
    "    \"\"\"\n",
    "    Estimation de l'erreur forte du schema d'Euler de pas h=T/N\n",
    "    a partir d'un echantillon de M simulations\n",
    "    \n",
    "    Output: le couple (erreur forte, demi-largeur de l'IC a 95%)\n",
    "    \"\"\"\n",
    "    S = S0*np.ones(M)\n",
    "    Se = S0*np.ones(M)\n",
    "    max_er = np.zeros(M)\n",
    "    \n",
    "    ####################################################\n",
    "    # Completer avec le calcul des parametres utiles\n",
    "    # pour la discretisation, par exemple (r - 1/2*sigma^2)*T/N\n",
    "    #\n",
    "    ####################################################\n",
    "    \n",
    "    # Dans la boucle ci-dessus, on fait évoluer un vecteur\n",
    "    # de taille M\n",
    "    for k in range(N):\n",
    "        g = np.random.randn(M)\n",
    "        #############################################\n",
    "        # Completer avec l'evolution du processus S,\n",
    "        # du schema d'Euler Se, et de l'ecart maximum\n",
    "        # au carre max_er\n",
    "        #############################################\n",
    "        S = ????\n",
    "        \n",
    "        Se = ????\n",
    "        \n",
    "        max_er = ????\n",
    "    \n",
    "    err_quadratique_eul = np.sum(max_er) / M\n",
    "    \n",
    "    err_eul = np.sqrt(err_quadratique_eul)\n",
    "    \n",
    "    #############################################\n",
    "    # Completer avec le calcul de la demi-largeur \n",
    "    # de l'IC a 95% d'apres la methode delta\n",
    "    #############################################\n",
    "    variance_delta_methode = ????\n",
    "\n",
    "    largeur_IC_eul = 1.96 * np.sqrt(variance_delta_methode / M)\n",
    "    \n",
    "    return err_eul, largeur_IC_eul\n"
   ]
  },
  {
   "cell_type": "markdown",
   "metadata": {},
   "source": [
    "4. La cellule ci-dessous trace en fonction de $h$ l'estimation empirique de\n",
    "$$\n",
    "\\mathbb{E} \\biggl[\\max_{0\\leq j \\leq N}(S^{(h)}_{jh}-S_{jh})^2 \\biggr]^{1/2} \n",
    "$$\n",
    "\n",
    "à partir des $M$ trajectoires simulées, ainsi que les bornes de l'intervalle de confiance à 95% basé sur le théorème de la limite centrale. Que constatez-vous? "
   ]
  },
  {
   "cell_type": "code",
   "execution_count": null,
   "metadata": {},
   "outputs": [],
   "source": [
    "M = int(1.e4) #nombre de simulations independantes\n",
    "N = 1 #nombre initial de pas de discretisation\n",
    "\n",
    "## On considère la suite de nombres de pas N = 1, 2, 4, ..., 2^P\n",
    "P = 6\n",
    "\n",
    "Npas = np.zeros(P)\n",
    "\n",
    "err_eul = np.zeros(P) # pour stocker les erreurs du schema d'Euler\n",
    "largeur_IC_eul = np.zeros(P) # pour stocker les largeurs des IC \n",
    "\n",
    "for i in range(P):\n",
    "    Npas[i] = N\n",
    "    \n",
    "    err_eul[i], largeur_IC_eul[i] = erreurForteEuler(T, sig, r, S0, N, M)\n",
    "\n",
    "    N = 2*N #multiplication du nombre N de pas par 2    \n",
    "\n",
    "############################################################\n",
    "# Completer avec l'affichage de l'erreur et de son\n",
    "# intervalle de confiance en fonction du pas de discretisation h\n",
    "############################################################\n",
    "plt.clf()\n",
    "plt.plot( ????? , ????? , color=\"r\", label=\"Erreur forte\")\n",
    "plt.plot( ????? , ?????, color=\"b\", label=\"IC 95%\")\n",
    "plt.plot( ????? , ?????, color=\"b\")\n",
    "\n",
    "plt.xlabel('Pas de discretisation')\n",
    "plt.legend(loc=\"best\")\n",
    "plt.show()\n",
    "\n",
    "#########################################\n",
    "# On affiche les valeurs de l'erreur et\n",
    "# de la largeur de l'IC\n",
    "#########################################\n",
    "print(\"N:\"); print(Npas)\n",
    "print(\"Erreurs du schema d'Euler de pas N:\"); print(err_eul)\n",
    "print(\"Largeur IC a 95%:\"); print (largeur_IC_eul)"
   ]
  },
  {
   "cell_type": "markdown",
   "metadata": {},
   "source": [
    "5. Implémenter un schéma alternatif $(\\tilde S^{(h)}_{kh})_{0\\leq k\\leq N}$ où l'on remplaçe l'intégrale stochastique par son approximation $\\sigma \\tilde S^{(h)}_{(k+1)h} (W_{(k+1)h} - W_{kh})$ au lieu de $\\sigma \\tilde S^{(h)}_{kh} (W_{(k+1)h} - W_{kh})$. \n",
    "Tracer l'estimation empirique de l'erreur pour ce nouveau schéma. Qu'observez-vous?"
   ]
  }
 ],
 "metadata": {
  "kernelspec": {
   "display_name": "Python 3 (ipykernel)",
   "language": "python",
   "name": "python3"
  },
  "language_info": {
   "codemirror_mode": {
    "name": "ipython",
    "version": 3
   },
   "file_extension": ".py",
   "mimetype": "text/x-python",
   "name": "python",
   "nbconvert_exporter": "python",
   "pygments_lexer": "ipython3",
   "version": "3.9.7"
  }
 },
 "nbformat": 4,
 "nbformat_minor": 2
}
