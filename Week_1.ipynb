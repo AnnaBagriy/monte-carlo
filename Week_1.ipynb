{
 "cells": [
  {
   "cell_type": "markdown",
   "metadata": {},
   "source": [
    "### MAP556, Ecole Polytechnique, 2022-23"
   ]
  },
  {
   "cell_type": "markdown",
   "metadata": {},
   "source": [
    "# TP 1 - Simulation de variables aléatoires et thèoremes limites fondamentaux\n"
   ]
  },
  {
   "cell_type": "markdown",
   "metadata": {},
   "source": [
    "### Exercice 1. Simulation de variables aléatoires dans Python. Loi des grands nombres.\n",
    "\n",
    "Soit $(X_i)_{i\\ge1}$ une suite de variables aléatoires i.i.d. telles que $\\mathbb{E}\\bigl[ \\bigl|X_1\\bigr| \\bigr]<\\infty$.\n",
    "La loi forte des grands nombres affirme que la suite des _moyennes empiriques_\n",
    "$$\n",
    "\\overline{X}_n = \\frac1n \\sum_{i=1}^n X_i\n",
    "$$\n",
    "converge presque surement (a.s.) vers $\\mathbb{E}[X_1]$ lorsque $n\\to \\infty$."
   ]
  },
  {
   "cell_type": "markdown",
   "metadata": {},
   "source": [
    "#### 1.1 Affichage (display) de la convergence de la suite $\\bar X_n$\n",
    "\n",
    "Simuler un grand nombre $N$ de variables aléatoires uniformes sur $[0,1]$ indépendantes et répresenter graphiquement la suite des moyennes empiriques $\\overline{X}_n$ pour $n$ allant de $1$ à $N$.\n",
    "\n",
    "On pourra utiliser la fonction `numpy.random.rand` pour obtenir les tirages de la loi uniforme et la fonction `numpy.cumsum` pour calculer la moyenne empirique cumulée jusqu'à $n$."
   ]
  },
  {
   "cell_type": "code",
   "execution_count": 1,
   "metadata": {},
   "outputs": [],
   "source": [
    "import numpy as np\n",
    "import matplotlib.pyplot as plt"
   ]
  },
  {
   "cell_type": "code",
   "execution_count": 91,
   "metadata": {
    "scrolled": true
   },
   "outputs": [
    {
     "data": {
      "image/png": "[encoded data removed]",
      "text/plain": [
       "<Figure size 432x288 with 1 Axes>"
      ]
     },
     "metadata": {
      "needs_background": "light"
     },
     "output_type": "display_data"
    }
   ],
   "source": [
    "N = 1000 #Nombre de tirages\n",
    "\n",
    "########\n",
    "# Completer avec N tirages de la loi uniforme sur [0,1]\n",
    "#\n",
    "X = np.random.rand(N)\n",
    "#\n",
    "########\n",
    "\n",
    "integers1toN = np.arange(1,N+1) # Un array contenant  les entiers de 1 a N\n",
    "\n",
    "############\n",
    "# Stocker dans la variable 'moyenneEmp' la suite de moyennes empiriques\n",
    "# pour n allant de 1 a N\n",
    "#\n",
    "\n",
    "#moyenneEmp = [np.sum(X[0:n]/n) for n in integers1toN]\n",
    "\n",
    "moyenneEmp = np.cumsum(X)/integers1toN\n",
    "\n",
    "#for n in integers1toN:\n",
    "#    x_n = np.sum(X[0:n])/n\n",
    "#    moyenneEmp[n - 1] = x_n #np.cumsum(X[0:n])/n\n",
    "#print(moyenneEmp)\n",
    "#\n",
    "############\n",
    "\n",
    "############\n",
    "#Affichage\n",
    "############\n",
    "plt.plot(integers1toN, moyenneEmp, color=\"b\", label=\"Moyenne empirique\")\n",
    "\n",
    "# Une ligne horizontale pour afficher la valeur limite\n",
    "esperance = 1/2\n",
    "plt.axhline(esperance, color=\"r\", label=\"Esperance\")\n",
    "\n",
    "plt.legend(loc=\"best\")\n",
    "\n",
    "# On affiche la figure dans la console\n",
    "plt.show()"
   ]
  },
  {
   "cell_type": "markdown",
   "metadata": {},
   "source": [
    "#### 1.2 Un autre exemple\n",
    "\n",
    "La loi de Cauchy de paramètre $a > 0$ est la loi sur $\\mathbb R$ de densité\n",
    "$$\n",
    "f(x) = \\frac a{\\pi(a^2+x^2)}.\n",
    "$$"
   ]
  },
  {
   "cell_type": "markdown",
   "metadata": {},
   "source": [
    "#### $\\blacktriangleright$ Question (a):\n",
    "\n",
    "Soit $F(x)=\\int_{-\\infty}^x f(y) dy $ sa fonction de répartition. Soit $U$ une v.a. de loi uniforme sur $[0,1]$. Quelle est la loi de $F^{-1}(U)$?"
   ]
  },
  {
   "cell_type": "markdown",
   "metadata": {},
   "source": [
    "#### $\\blacktriangleright$ Question (b):\n",
    "\n",
    "En remarquant que $F(x) = \\frac1{\\pi}\\arctan(\\frac xa)+\\frac12$, générer un grand nombre $N$ de variables aléatoires indépendantes de loi de Cauchy de paramètre $a=1$, toujours en utilisant la fonction `numpy.random.rand`.\n",
    "\n",
    "Répresenter graphiquement la suite des moyennes empiriques $\\overline{X}_n$ pour $n$ allant de $1$ à $N$. Qu'observez-vous?"
   ]
  },
  {
   "cell_type": "code",
   "execution_count": 103,
   "metadata": {},
   "outputs": [
    {
     "data": {
      "text/plain": [
       "[<matplotlib.lines.Line2D at 0x7fc86e20d700>]"
      ]
     },
     "execution_count": 103,
     "metadata": {},
     "output_type": "execute_result"
    },
    {
     "data": {
      "image/png": "[encoded data removed]",
      "text/plain": [
       "<Figure size 432x288 with 1 Axes>"
      ]
     },
     "metadata": {
      "needs_background": "light"
     },
     "output_type": "display_data"
    }
   ],
   "source": [
    "N = 1000\n",
    "U = np.random.rand(N)\n",
    "\n",
    "a = 1.\n",
    "\n",
    "########\n",
    "# Stocker dans X des simulations de la loi de Cauchy de parametre a\n",
    "# en utilisant l'inverse de la fct de repartition\n",
    "#\n",
    "X = a*np.tan(np.pi*(U-0.5))\n",
    "#\n",
    "########\n",
    "\n",
    "integers1toN = np.arange(1,N+1)\n",
    "\n",
    "########\n",
    "# Calculer et stocker dans la variable 'moyenneEmp' la suite des moyennes empiriques\n",
    "# \n",
    "moyenneEmp = np.cumsum(X)/range(1,N+1)\n",
    "# \n",
    "# Afficher la suite à l'aide de la fonction plot de matplotlib.pyplot\n",
    "#\n",
    "plt.plot(range(1,N+1), moyenneEmp, color=\"b\", label=\"Moyenne empirique\")\n",
    "#\n",
    "########"
   ]
  },
  {
   "cell_type": "markdown",
   "metadata": {},
   "source": [
    "### Exercice 2.  Théoreme central limite. Intervalles de confiance.\n",
    "\n",
    "Soit $(X_i)_{i\\ge1}$ une suite de variables aléatoires i.i.d. telles que $\\mathbb E[X_1^2]<\\infty$, et $\\overline{X}_n = \\frac1n \\sum_{i=1}^n X_i$ la suite de leurs moyennes empiriques.\n",
    "\n",
    "Le théoreme central limite affirme que la suite des erreurs renormalisées\n",
    "$$\n",
    "e_n = \\frac{\\sqrt n}{\\sqrt{Var(X_1)}} \\left(\\overline{X}_n - \\mathbb E[X_1]\\right)\n",
    "$$\n",
    "converge en loi vers une gaussienne $\\mathcal{N}(0,1)$ lorsque $n \\to \\infty$."
   ]
  },
  {
   "cell_type": "markdown",
   "metadata": {},
   "source": [
    "### 2.1 Affichage de la convergence en loi"
   ]
  },
  {
   "cell_type": "markdown",
   "metadata": {},
   "source": [
    "#### $\\blacktriangleright$ Question (a): \n",
    " \n",
    "On considère une suite iid de v.a. exponentielles de paramètre 2. Pour $N$ fixé, obtenir un échantillon de $M$ valeurs de la moyenne empirique $(\\overline{X}_N^j)_{j=1,\\dots,M}$.\n",
    "\n",
    "Tracer l'histogramme des valeurs correspondantes de l'erreur normalisée\n",
    "$$\n",
    "    e^j_N = \\sqrt{\\frac N{Var(X_1)}} \\bigl(\\overline{X}^j_N - \\mathbb E[X_1] \\bigr),\n",
    "\\qquad j = 1, \\dots, M\n",
    "$$\n",
    "et le comparer avec la densité gaussienne centrée réduite. "
   ]
  },
  {
   "cell_type": "code",
   "execution_count": 74,
   "metadata": {},
   "outputs": [
    {
     "data": {
      "image/png": "[encoded data removed]",
      "text/plain": [
       "<Figure size 432x288 with 1 Axes>"
      ]
     },
     "metadata": {
      "needs_background": "light"
     },
     "output_type": "display_data"
    }
   ],
   "source": [
    "N = 3000 # Nombre de tirages pour le calcul de la moyenne empirique\n",
    "M = 5000 # Nombre de repetitions\n",
    "\n",
    "####################################################\n",
    "# Tirages independants de N*M v.a. exponentielles\n",
    "# de parametre lambda=2\n",
    "#\n",
    "lambd = 2\n",
    "# ATTENTION: la fonction random.exponential prens comme premier argument\n",
    "#  la moyenne 1/lambda de la distribution, et non pas son parametre lambda\n",
    "\n",
    "X = np.random.exponential(1/lambd, (M, N))\n",
    "#print(np.size(X))\n",
    "####################################################\n",
    "\n",
    "esp = 1/lambd\n",
    "var = (1/lambd)**2\n",
    "\n",
    "####################################################\n",
    "# Stocker dans la variable 'moyenneEmp_N' un echantillon de M valeurs\n",
    "# de la moyenne empirique Xbar_N\n",
    "#\n",
    "#moyenneEmp_N = []\n",
    "for m in range(0, M):\n",
    "    x_m = np.sum(X[m,:])/N\n",
    "    moyenneEmp_N.append(x_m)\n",
    "\n",
    "#moyenneEmp_N = np.cumsum(X[])\n",
    "#print(np.size(moyenneEmp_N))\n",
    "#\n",
    "# Stocker dans la variable 'erreurNormalisee_N' l'echantillon de M valeurs\n",
    "# de l'erreur normalisee\n",
    "#\n",
    "erreurNormalisee_N = []\n",
    "#erreurNormalisee_N = np.sqrt(N/var)*(moyenneEmp_N-esp)\n",
    "for i in range(0, M):\n",
    "    erreurNormalisee_N.append(np.sqrt(N/var)*(moyenneEmp_N[i]-esp))\n",
    "####################################################\n",
    "\n",
    "\n",
    "####################################################\n",
    "# Affichage\n",
    "plt.hist( erreurNormalisee_N , density=\"True\", bins=int(np.sqrt(M)), label=\"erreur normalisee\")\n",
    "\n",
    "####################################################\n",
    "# Completer avec le calcul de la densite gaussienne centree reduite\n",
    "# sur les abscisses x\n",
    "x = np.linspace(-5,5,100)\n",
    "\n",
    "densiteGaussienne = np.exp(-x*x/2)*np.sqrt(1/(2*np.pi))\n",
    "\n",
    "####################################################\n",
    "# Affichage\n",
    "plt.plot(x,densiteGaussienne, color=\"red\", label=\"densite gaussienne\", linewidth=2.0)\n",
    "\n",
    "plt.legend(loc=\"best\")\n",
    "plt.show()"
   ]
  },
  {
   "cell_type": "markdown",
   "metadata": {},
   "source": [
    "#### $\\blacktriangleright$ Question (b): \n",
    " \n",
    "Afin d'illuster la différence entre convergence en loi et convergence presque sure, tracer une réalisation de la suite $e_n$ pour $n$ variant de $1$ à $N$.\n",
    "\n",
    "Qu'observez-vous?"
   ]
  },
  {
   "cell_type": "code",
   "execution_count": 84,
   "metadata": {},
   "outputs": [
    {
     "data": {
      "image/png": "[encoded data removed]",
      "text/plain": [
       "<Figure size 432x288 with 1 Axes>"
      ]
     },
     "metadata": {
      "needs_background": "light"
     },
     "output_type": "display_data"
    }
   ],
   "source": [
    "N = 3000\n",
    "lambd = 2.\n",
    "\n",
    "X = np.random.exponential(1/lambd, N)\n",
    "\n",
    "esp = 1/lambd\n",
    "var = (1/lambd)**2\n",
    "\n",
    "################################################\n",
    "## Question (b): completer avec le calcul d'une\n",
    "## realisation de la suite des erreurs normalisees\n",
    "## et son affichage \n",
    "################################################\n",
    "\n",
    "moyenneEmp_e = np.cumsum(X)\n",
    "\n",
    "erreurNormalisee_e = []\n",
    "for i in range(0, N):\n",
    "    erreurNormalisee_e.append(np.sqrt(N/var)*(moyenneEmp_e[i]/(i+1)-esp))\n",
    "    \n",
    "\n",
    "plt.plot(range(0, N), erreurNormalisee_e, color=\"b\", label=\"Erreurs normalisees\")\n",
    "\n",
    "# Une ligne horizontale pour afficher la valeur limite\n",
    "esperance = 0\n",
    "plt.axhline(esperance, color=\"r\", label=\"Esperance\")\n",
    "\n",
    "plt.show()"
   ]
  },
  {
   "cell_type": "markdown",
   "metadata": {},
   "source": [
    "### 2.2 Intervalles de confiance\n",
    "\n",
    "A différence de l'exemple précédent, en pratique on ne connait pas la valeur $Var(X_1)$.\n",
    "On peut cependant l'estimer à partir des memes simulations, en utilisant l'estimateur de la variance\n",
    "$$\n",
    "\\sigma_n^2 = \\frac1n \\sum_{i=1}^n X_i^2 - (\\overline{X}_n)^2\n",
    "$$"
   ]
  },
  {
   "cell_type": "markdown",
   "metadata": {},
   "source": [
    "#### $\\blacktriangleright$ Question (a):\n",
    "\n",
    "Quel resultat permet d'affirmer que la suite\n",
    "$$\n",
    "\\frac{\\sqrt n}{\\sigma_n} \\left(\\overline{X}_n - \\mathbb E[X_1]\\right)\n",
    "$$\n",
    "converge en loi vers $\\mathcal{N}(0,1)$?"
   ]
  },
  {
   "cell_type": "markdown",
   "metadata": {},
   "source": [
    "#### $\\blacktriangleright$ Question (b):\n",
    "\n",
    "En définissant l'intervalle (aléatoire) $I_n^{\\delta}=\\left[\\overline{X}_n-\\delta\\frac{\\sigma_n}{\\sqrt n},\\overline{X}_n+\\delta\\frac{\\sigma_n}{\\sqrt n}\\right]$, $\\delta>0$, la question précédente entraine\n",
    "$$\n",
    "\\mathbb P\\Bigl(\\mathbb E[X_1] \\in I_n^{\\delta}\\Bigr)\n",
    "=\n",
    "\\mathbb P\\biggl(\\frac{\\sqrt n}{\\sigma_n} \\bigl|\\overline{X}_n - \\mathbb E[X_1]\\bigr| \\le \\delta \\biggr)\n",
    "\\longrightarrow \\mathbb P(|\\mathcal{N}(0,1)|\\le \\delta) = 2\\int_0^{\\delta} \\frac{e^{-x^2/2}}{\\sqrt{2\\pi}} dx\n",
    "$$\n",
    "lorsque $n \\to \\infty$.\n",
    "\n",
    "Pour $\\delta=1.96$, le dernier terme à droite vaut approximativement $0.95$, ce qui permet d'idéntifier $I_n^{1.96}$ comme étant l'intervalle de confiance _asymptotique_ à $95\\%$ pour l'espérance $\\mathbb E[X_1]$.\n",
    "\n",
    "Fournir une estimation de l'espérance de v.a. uniformes sur $[0,1]$ avec son intervalle de confiance à $95\\%$ donné par le TCL."
   ]
  },
  {
   "cell_type": "code",
   "execution_count": 82,
   "metadata": {},
   "outputs": [
    {
     "name": "stdout",
     "output_type": "stream",
     "text": [
      "esperance: 0.5000 \n",
      "\n",
      "moyenne empirique: 0.4997 \n",
      "\n",
      "IC a 0.95: [0.4909, 0.5084] \n",
      "\n",
      "erreur relative*100: 1.8\n"
     ]
    }
   ],
   "source": [
    "N = 1000\n",
    "X = np.random.rand(N)\n",
    "esp = 0.5\n",
    "\n",
    "moyenneEmp = np.sum(X) / N\n",
    "\n",
    "################################################################\n",
    "# Stocker dans la variable 'moyenneCarres' la moyenne empirique\n",
    "# des carres de X\n",
    "#\n",
    "moyenneCarres = np.sum(X*X) / N\n",
    "#\n",
    "# Stocker dans la variable 'varianceEmp' la variance empirique\n",
    "# et dans 'demiLargeurIC' la demi largeur de l'intervalle de \n",
    "# confiance a 95%\n",
    "#\n",
    "varianceEmp = moyenneCarres - moyenneEmp**2\n",
    "\n",
    "delta = 0.96\n",
    "demiLargeurIC = delta*np.sqrt(varianceEmp/N)\n",
    "# \n",
    "########\n",
    "\n",
    "print(\"esperance: %1.4f \\n\" %esp)\n",
    "print(\"moyenne empirique: %1.4f \\n\" %moyenneEmp)\n",
    "\n",
    "print(\"IC a 0.95: [%1.4f, %1.4f] \\n\" %(moyenneEmp - demiLargeurIC, moyenneEmp + demiLargeurIC) )\n",
    "\n",
    "print(\"erreur relative*100: %1.1f\" %(demiLargeurIC/moyenneEmp * 100) )"
   ]
  },
  {
   "cell_type": "code",
   "execution_count": null,
   "metadata": {},
   "outputs": [],
   "source": []
  }
 ],
 "metadata": {
  "kernelspec": {
   "display_name": "Python 3 (ipykernel)",
   "language": "python",
   "name": "python3"
  },
  "language_info": {
   "codemirror_mode": {
    "name": "ipython",
    "version": 3
   },
   "file_extension": ".py",
   "mimetype": "text/x-python",
   "name": "python",
   "nbconvert_exporter": "python",
   "pygments_lexer": "ipython3",
   "version": "3.9.7"
  }
 },
 "nbformat": 4,
 "nbformat_minor": 2
}
